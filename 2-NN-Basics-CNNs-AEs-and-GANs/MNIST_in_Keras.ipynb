{
 "cells": [
  {
   "cell_type": "code",
   "execution_count": 1,
   "metadata": {
    "id": "LO9YU-cKkK6U"
   },
   "outputs": [],
   "source": [
    "%matplotlib inline"
   ]
  },
  {
   "cell_type": "markdown",
   "metadata": {
    "id": "q_O440eLkK6X"
   },
   "source": [
    "# Introduction to Deep Learning with Keras and TensorFlow\n",
    "\n",
    "**Daniel Moser (UT Southwestern Medical Center)**\n",
    "\n",
    "**Resources: [Xavier Snelgrove](https://github.com/wxs/keras-mnist-tutorial), [Yash Katariya](https://github.com/yashk2810/MNIST-Keras)**"
   ]
  },
  {
   "cell_type": "markdown",
   "metadata": {
    "id": "-imSWS6gkK6Y"
   },
   "source": [
    "To help you understand the fundamentals of deep learning, this demo will walk through the basic steps of building two toy models for classifying handwritten numbers with accuracies surpassing 95%. The first model will be a basic fully-connected neural network, and the second model will be a deeper network that introduces the concepts of convolution and pooling."
   ]
  },
  {
   "cell_type": "markdown",
   "metadata": {
    "id": "JP1gBFVrkK6Y"
   },
   "source": [
    "## The Task for the AI\n",
    "\n",
    "Our goal is to construct and train an artificial neural network on thousands of images of handwritten digits so that it may successfully identify others when presented. The data that will be incorporated is the MNIST database which contains 60,000 images for training and 10,000 test images. We will use the Keras Python API with TensorFlow as the backend."
   ]
  },
  {
   "cell_type": "markdown",
   "metadata": {
    "id": "5wYySIX-kK6Z"
   },
   "source": [
    "<img src=\"https://github.com/AviatorMoser/keras-mnist-tutorial/blob/master/mnist.png?raw=1\" >"
   ]
  },
  {
   "cell_type": "markdown",
   "metadata": {
    "id": "YaFaa-RekK6Z"
   },
   "source": [
    "## Prerequisite Python Modules\n",
    "\n",
    "First, some software needs to be loaded into the Python environment."
   ]
  },
  {
   "cell_type": "code",
   "execution_count": 2,
   "metadata": {},
   "outputs": [
    {
     "name": "stdout",
     "output_type": "stream",
     "text": [
      "2.8.0\n"
     ]
    }
   ],
   "source": [
    "import tensorflow\n",
    "print(tensorflow.__version__)\n",
    "from tensorflow.keras import backend as K"
   ]
  },
  {
   "cell_type": "code",
   "execution_count": 3,
   "metadata": {},
   "outputs": [],
   "source": [
    "import torch\n",
    "from torch import nn\n",
    "import matplotlib.pyplot as plt\n",
    "import torch.utils.data as Data\n",
    "from torchvision.datasets import MNIST,FashionMNIST\n",
    "from torchvision import transforms\n",
    "\n",
    "from tensorflow.keras.layers import BatchNormalization\n",
    "from tensorflow.python.keras.layers import AveragePooling2D\n",
    "from tensorflow.python.keras.layers import MaxPooling2D\n",
    "from tensorflow.python.keras.layers import Conv2D\n",
    "from tensorflow.python.keras.layers import Activation\n",
    "from tensorflow.python.keras.layers import Dropout\n",
    "from tensorflow.python.keras.layers import Flatten\n",
    "from tensorflow.python.keras.layers import Input\n",
    "from tensorflow.python.keras.layers import Dense\n",
    "from tensorflow.python.keras.layers import concatenate\n",
    "\n",
    "from tensorflow.keras.preprocessing.image import ImageDataGenerator\n",
    "from tensorflow.python.keras.layers import Conv2D, MaxPooling2D, ZeroPadding2D, GlobalAveragePooling2D, Flatten\n",
    "# from tensorflow.python.keras.keras.layers.normalization import BatchNormalization"
   ]
  },
  {
   "cell_type": "code",
   "execution_count": 4,
   "metadata": {
    "id": "lz7gcBCVkK6Z"
   },
   "outputs": [],
   "source": [
    "import numpy as np                   # advanced math library\n",
    "import matplotlib.pyplot as plt      # MATLAB like plotting routines\n",
    "import random                        # for generating random numbers\n",
    "\n",
    "from tensorflow.keras.datasets import mnist     # MNIST dataset is included in Keras\n",
    "# from tensorflow.keras import Sequential  # Model type to be used\n",
    "\n",
    "# from tensorflow.keras.layers import Dense, Dropout, Activation # Types of layers to be used in our model\n",
    "from tensorflow.python.keras.utils import np_utils                         # NumPy related tools"
   ]
  },
  {
   "cell_type": "code",
   "execution_count": 5,
   "metadata": {
    "id": "Gm7wxac7kK6h"
   },
   "outputs": [],
   "source": [
    "from tensorflow.python.keras import Model\n",
    "from tensorflow.python.keras import Sequential"
   ]
  },
  {
   "cell_type": "markdown",
   "metadata": {
    "id": "E9at2VgikK6a"
   },
   "source": [
    "## Loading Training Data\n",
    "\n",
    "The MNIST dataset is conveniently bundled within Keras, and we can easily analyze some of its features in Python."
   ]
  },
  {
   "cell_type": "code",
   "execution_count": 6,
   "metadata": {
    "id": "tCQbnvl8kK6b"
   },
   "outputs": [
    {
     "name": "stdout",
     "output_type": "stream",
     "text": [
      "X_train shape (60000, 28, 28)\n",
      "y_train shape (60000,)\n",
      "X_test shape (10000, 28, 28)\n",
      "y_test shape (10000,)\n"
     ]
    }
   ],
   "source": [
    "# The MNIST data is split between 60,000 28 x 28 pixel training images and 10,000 28 x 28 pixel images\n",
    "transform = transforms.Compose([transforms.ToTensor()])\n",
    "data_train = MNIST(root = \"data/\", \n",
    "          transform = transform, ## 图像变换操作\n",
    "          train =True, ## 决定使用训练集还是测试集\n",
    "          download = True) ## 选择是否需要下载数据\n",
    "data_test = MNIST(root = \"data/\",\n",
    "          transform = transform,\n",
    "          train =False)\n",
    "(X_train, y_train), (X_test, y_test) = mnist.load_data()\n",
    "print(\"X_train shape\", X_train.shape)\n",
    "print(\"y_train shape\", y_train.shape)\n",
    "print(\"X_test shape\", X_test.shape)\n",
    "print(\"y_test shape\", y_test.shape)"
   ]
  },
  {
   "cell_type": "markdown",
   "metadata": {
    "id": "I9Rz9MdvkK6b"
   },
   "source": [
    "Using matplotlib, we can plot some sample images from the training set directly into this Jupyter Notebook."
   ]
  },
  {
   "cell_type": "code",
   "execution_count": 7,
   "metadata": {
    "id": "RISbJ0qrkK6b"
   },
   "outputs": [
    {
     "data": {
      "image/png": "[encoded data removed]",
      "text/plain": [
       "<Figure size 648x648 with 9 Axes>"
      ]
     },
     "metadata": {
      "needs_background": "light"
     },
     "output_type": "display_data"
    }
   ],
   "source": [
    "plt.rcParams['figure.figsize'] = (9,9) # Make the figures a bit bigger\n",
    "\n",
    "for i in range(9):\n",
    "    plt.subplot(3,3,i+1)\n",
    "    num = random.randint(0, len(X_train))\n",
    "    plt.imshow(X_train[num], cmap='gray', interpolation='none')\n",
    "    plt.title(\"Class {}\".format(y_train[num]))\n",
    "    \n",
    "plt.tight_layout()"
   ]
  },
  {
   "cell_type": "markdown",
   "metadata": {
    "id": "AwpHCMNgkK6c"
   },
   "source": [
    "Let's examine a single digit a little closer, and print out the array representing the last digit."
   ]
  },
  {
   "cell_type": "code",
   "execution_count": 8,
   "metadata": {
    "id": "ySFZ_K64kK6c"
   },
   "outputs": [
    {
     "name": "stdout",
     "output_type": "stream",
     "text": [
      "0  0  0  0  0  0    0    0    0    0    0    0    0    0    0    0    0    0    0    0    0    0    0  0  0  0  0  0  \n",
      "0  0  0  0  0  0    0    0    0    0    0    0    0    0    0    0    0    0    0    0    0    0    0  0  0  0  0  0  \n",
      "0  0  0  0  0  0    0    0    0    0    0    0    0    0    0    0    0    0    0    0    0    0    0  0  0  0  0  0  \n",
      "0  0  0  0  0  0    0    0    0    0    0    0    0    0    0   60   59  195   73  134  133   59   41  0  0  0  0  0  \n",
      "0  0  0  0  0  0    0    0    0    0    0    0    0   64  118  254  253  253  253  253  253  253  174  0  0  0  0  0  \n",
      "0  0  0  0  0  0    0    0    0    0    0    0   55  218  253  255  253  253  253  253  253  253  174  0  0  0  0  0  \n",
      "0  0  0  0  0  0    0    0    0    0   25  206  240  253  253  254  253  225   62  229  253  253  174  0  0  0  0  0  \n",
      "0  0  0  0  0  0    0    0   16   99  194  253  253  253  253  232  154   47    0   61  215  253  174  0  0  0  0  0  \n",
      "0  0  0  0  0  0    0    0   40  253  253  253  253  167   97   75    0    0    0    0   60   97   67  0  0  0  0  0  \n",
      "0  0  0  0  0  0    0    0  206  253  253  251  172   18    0    0    0    0    0    0    0    0    0  0  0  0  0  0  \n",
      "0  0  0  0  0  0    0   55  240  253  253  172    0    0    0    0    0    0    0    0    0    0    0  0  0  0  0  0  \n",
      "0  0  0  0  0  0    0  176  253  253  253   38    0    0    0    0    0    0    0    0    0    0    0  0  0  0  0  0  \n",
      "0  0  0  0  0  0   92  235  253  253  131    9    0    0    0    0    0    0    0    0    0    0    0  0  0  0  0  0  \n",
      "0  0  0  0  0  0  119  255  254  254   97    0    0    0    0    0    0    0    0    0    0    0    0  0  0  0  0  0  \n",
      "0  0  0  0  0  0  118  253  253  253   97    0    0    0    0  119  118  118    9    0    0    0    0  0  0  0  0  0  \n",
      "0  0  0  0  0  0  118  253  253  253   97    0    0   96  176  254  253  253  181  176   68    0    0  0  0  0  0  0  \n",
      "0  0  0  0  0  0  118  253  253  253  242   84  235  244  253  254  253  253  253  253  242   66    0  0  0  0  0  0  \n",
      "0  0  0  0  0  0  118  253  253  253  253  253  253  253  253  254  253  253  253  253  253  233    0  0  0  0  0  0  \n",
      "0  0  0  0  0  0   45  205  253  253  253  253  253  253  253  218   97   97  242  253  253  233    0  0  0  0  0  0  \n",
      "0  0  0  0  0  0    0   27  222  253  253  253  253  253  253  246  215  215  250  253  240   64    0  0  0  0  0  0  \n",
      "0  0  0  0  0  0    0    0   28  204  253  253  253  253  253  254  253  253  253  253   97    0    0  0  0  0  0  0  \n",
      "0  0  0  0  0  0    0    0    0   45  116  232  253  253  253  254  253  253  253  253   97    0    0  0  0  0  0  0  \n",
      "0  0  0  0  0  0    0    0    0    0    0   49   57  163  253  254  253  253   71   57   22    0    0  0  0  0  0  0  \n",
      "0  0  0  0  0  0    0    0    0    0    0    0    0    0    0    0    0    0    0    0    0    0    0  0  0  0  0  0  \n",
      "0  0  0  0  0  0    0    0    0    0    0    0    0    0    0    0    0    0    0    0    0    0    0  0  0  0  0  0  \n",
      "0  0  0  0  0  0    0    0    0    0    0    0    0    0    0    0    0    0    0    0    0    0    0  0  0  0  0  0  \n",
      "0  0  0  0  0  0    0    0    0    0    0    0    0    0    0    0    0    0    0    0    0    0    0  0  0  0  0  0  \n",
      "0  0  0  0  0  0    0    0    0    0    0    0    0    0    0    0    0    0    0    0    0    0    0  0  0  0  0  0  \n"
     ]
    }
   ],
   "source": [
    "# just a little function for pretty printing a matrix\n",
    "def matprint(mat, fmt=\"g\"):\n",
    "    col_maxes = [max([len((\"{:\"+fmt+\"}\").format(x)) for x in col]) for col in mat.T]\n",
    "    for x in mat:\n",
    "        for i, y in enumerate(x):\n",
    "            print((\"{:\"+str(col_maxes[i])+fmt+\"}\").format(y), end=\"  \")\n",
    "        print(\"\")\n",
    "\n",
    "# now print!        \n",
    "matprint(X_train[num])"
   ]
  },
  {
   "cell_type": "markdown",
   "metadata": {
    "id": "ObzpJVuFkK6c"
   },
   "source": [
    "Each pixel is an 8-bit integer from 0-255. 0 is full black, while 255 is full white. This what we call a single-channel pixel. It's called monochrome.\n",
    "\n",
    "*Fun-fact! Your computer screen has three channels for each pixel: red, green, blue. Each of these channels also likely takes an 8-bit integer. 3 channels -- 24 bits total -- 16,777,216 possible colors!*"
   ]
  },
  {
   "cell_type": "markdown",
   "metadata": {
    "id": "MZJ2UV1PkK6c"
   },
   "source": [
    "## Formatting the input data layer\n",
    "\n",
    "Instead of a 28 x 28 matrix, we build our network to accept a 784-length vector.\n",
    "\n",
    "Each image needs to be then reshaped (or flattened) into a vector. We'll also normalize the inputs to be in the range [0-1] rather than [0-255]. Normalizing inputs is generally recommended, so that any additional dimensions (for other network architectures) are of the same scale."
   ]
  },
  {
   "cell_type": "markdown",
   "metadata": {
    "id": "NmpT1Z13kK6d"
   },
   "source": [
    "<img src='https://github.com/AviatorMoser/keras-mnist-tutorial/blob/master/flatten.png?raw=1' >"
   ]
  },
  {
   "cell_type": "code",
   "execution_count": 9,
   "metadata": {
    "id": "6YpJ7P9UkK6d"
   },
   "outputs": [
    {
     "name": "stdout",
     "output_type": "stream",
     "text": [
      "Training matrix shape (60000, 784)\n",
      "Testing matrix shape (10000, 784)\n"
     ]
    }
   ],
   "source": [
    "X_train = X_train.reshape(60000, 784) # reshape 60,000 28 x 28 matrices into 60,000 784-length vectors.\n",
    "X_test = X_test.reshape(10000, 784)   # reshape 10,000 28 x 28 matrices into 10,000 784-length vectors.\n",
    "\n",
    "X_train = X_train.astype('float32')   # change integers to 32-bit floating point numbers\n",
    "X_test = X_test.astype('float32')\n",
    "\n",
    "X_train /= 255                        # normalize each value for each pixel for the entire vector for each input\n",
    "X_test /= 255\n",
    "\n",
    "print(\"Training matrix shape\", X_train.shape)\n",
    "print(\"Testing matrix shape\", X_test.shape)"
   ]
  },
  {
   "cell_type": "markdown",
   "metadata": {
    "id": "bfpBRmfAkK6d"
   },
   "source": [
    "We then modify our classes (unique digits) to be in the one-hot format, i.e.\n",
    "\n",
    "```\n",
    "0 -> [1, 0, 0, 0, 0, 0, 0, 0, 0]\n",
    "1 -> [0, 1, 0, 0, 0, 0, 0, 0, 0]\n",
    "2 -> [0, 0, 1, 0, 0, 0, 0, 0, 0]\n",
    "etc.\n",
    "```\n",
    "\n",
    "If the final output of our network is very close to one of these classes, then it is most likely that class. For example, if the final output is:\n",
    "\n",
    "```\n",
    "[0, 0.94, 0, 0, 0, 0, 0.06, 0, 0]\n",
    "```\n",
    "then it is most probable that the image is that of the digit `1`."
   ]
  },
  {
   "cell_type": "code",
   "execution_count": 10,
   "metadata": {
    "id": "rBDc17VCkK6d"
   },
   "outputs": [],
   "source": [
    "nb_classes = 10 # number of unique digits\n",
    "\n",
    "Y_train = np_utils.to_categorical(y_train, nb_classes)\n",
    "Y_test = np_utils.to_categorical(y_test, nb_classes)"
   ]
  },
  {
   "cell_type": "markdown",
   "metadata": {
    "id": "02fANsoWkK6d"
   },
   "source": [
    "# Building a 3-layer fully connected network (FCN)\n",
    "\n",
    "<img src=\"https://github.com/AviatorMoser/keras-mnist-tutorial/blob/master/figure.png?raw=1\" />"
   ]
  },
  {
   "cell_type": "code",
   "execution_count": 11,
   "metadata": {
    "id": "68ZOJeIZkK6e"
   },
   "outputs": [],
   "source": [
    "# The Sequential model is a linear stack of layers and is very common.\n",
    "\n",
    "model = Sequential()"
   ]
  },
  {
   "cell_type": "markdown",
   "metadata": {
    "id": "OynjOlyAkK6e"
   },
   "source": [
    "## The first hidden layer"
   ]
  },
  {
   "cell_type": "code",
   "execution_count": 12,
   "metadata": {
    "id": "B-IfD_uHkK6e"
   },
   "outputs": [],
   "source": [
    "# The first hidden layer is a set of 512 nodes (artificial neurons).\n",
    "# Each node will receive an element from each input vector and apply some weight and bias to it.\n",
    "\n",
    "model.add(Dense(512, input_shape=(784,))) #(784,) is not a typo -- that represents a 784 length vector!"
   ]
  },
  {
   "cell_type": "code",
   "execution_count": 13,
   "metadata": {
    "id": "o5H68nsIkK6e"
   },
   "outputs": [],
   "source": [
    "# An \"activation\" is a non-linear function applied to the output of the layer above.\n",
    "# It checks the new value of the node, and decides whether that artifical neuron has fired.\n",
    "# The Rectified Linear Unit (ReLU) converts all negative inputs to nodes in the next layer to be zero.\n",
    "# Those inputs are then not considered to be fired.\n",
    "# Positive values of a node are unchanged.\n",
    "\n",
    "model.add(Activation('relu'))"
   ]
  },
  {
   "cell_type": "markdown",
   "metadata": {
    "id": "3vxGEoN5kK6e"
   },
   "source": [
    "$$f(x) = max (0,x)$$\n"
   ]
  },
  {
   "cell_type": "code",
   "execution_count": 14,
   "metadata": {
    "id": "UZY2c71gkK6e"
   },
   "outputs": [],
   "source": [
    "# Dropout zeroes a selection of random outputs (i.e., disables their activation)\n",
    "# Dropout helps protect the model from memorizing or \"overfitting\" the training data.\n",
    "model.add(Dropout(0.2))"
   ]
  },
  {
   "cell_type": "markdown",
   "metadata": {
    "id": "rNosag9UkK6e"
   },
   "source": [
    "## Adding the second hidden layer"
   ]
  },
  {
   "cell_type": "code",
   "execution_count": 15,
   "metadata": {
    "id": "EmmaN1FCkK6f"
   },
   "outputs": [],
   "source": [
    "# The second hidden layer appears identical to our first layer.\n",
    "# However, instead of each of the 512-node receiving 784-inputs from the input image data,\n",
    "# they receive 512 inputs from the output of the first 512-node layer.\n",
    "\n",
    "model.add(Dense(512))\n",
    "model.add(Activation('relu'))\n",
    "model.add(Dropout(0.2))"
   ]
  },
  {
   "cell_type": "markdown",
   "metadata": {
    "id": "okzF3VV3kK6f"
   },
   "source": [
    "## The Final Output Layer"
   ]
  },
  {
   "cell_type": "code",
   "execution_count": 16,
   "metadata": {
    "id": "Vma-8d9pkK6f"
   },
   "outputs": [],
   "source": [
    "# The final layer of 10 neurons in fully-connected to the previous 512-node layer.\n",
    "# The final layer of a FCN should be equal to the number of desired classes (10 in this case).\n",
    "model.add(Dense(10))"
   ]
  },
  {
   "cell_type": "code",
   "execution_count": 17,
   "metadata": {
    "id": "sVRlp2QKkK6f"
   },
   "outputs": [],
   "source": [
    "# The \"softmax\" activation represents a probability distribution over K different possible outcomes.\n",
    "# Its values are all non-negative and sum to 1.\n",
    "\n",
    "model.add(Activation('softmax'))"
   ]
  },
  {
   "cell_type": "code",
   "execution_count": 18,
   "metadata": {
    "id": "sIKVNVDAkK6f"
   },
   "outputs": [
    {
     "name": "stdout",
     "output_type": "stream",
     "text": [
      "Model: \"sequential\"\n",
      "_________________________________________________________________\n",
      "Layer (type)                 Output Shape              Param #   \n",
      "=================================================================\n",
      "dense (Dense)                (None, 512)               401920    \n",
      "_________________________________________________________________\n",
      "activation (Activation)      (None, 512)               0         \n",
      "_________________________________________________________________\n",
      "dropout (Dropout)            (None, 512)               0         \n",
      "_________________________________________________________________\n",
      "dense_1 (Dense)              (None, 512)               262656    \n",
      "_________________________________________________________________\n",
      "activation_1 (Activation)    (None, 512)               0         \n",
      "_________________________________________________________________\n",
      "dropout_1 (Dropout)          (None, 512)               0         \n",
      "_________________________________________________________________\n",
      "dense_2 (Dense)              (None, 10)                5130      \n",
      "_________________________________________________________________\n",
      "activation_2 (Activation)    (None, 10)                0         \n",
      "=================================================================\n",
      "Total params: 669,706\n",
      "Trainable params: 669,706\n",
      "Non-trainable params: 0\n",
      "_________________________________________________________________\n"
     ]
    }
   ],
   "source": [
    "# Summarize the built model\n",
    "\n",
    "model.summary()"
   ]
  },
  {
   "cell_type": "markdown",
   "metadata": {
    "id": "VQT9ewTHkK6f"
   },
   "source": [
    "## Compiling the model\n",
    "\n",
    "Keras is built on top of Theano and TensorFlow. Both packages allow you to define a *computation graph* in Python, which then compiles and runs efficiently on the CPU or GPU without the overhead of the Python interpreter.\n",
    "\n",
    "When compiing a model, Keras asks you to specify your **loss function** and your **optimizer**. The loss function we'll use here is called *categorical cross-entropy*, and is a loss function well-suited to comparing two probability distributions.\n",
    "\n",
    "Our predictions are probability distributions across the ten different digits (e.g. \"we're 80% confident this image is a 3, 10% sure it's an 8, 5% it's a 2, etc.\"), and the target is a probability distribution with 100% for the correct category, and 0 for everything else. The cross-entropy is a measure of how different your predicted distribution is from the target distribution. [More detail at Wikipedia](https://en.wikipedia.org/wiki/Cross_entropy)\n",
    "\n",
    "The optimizer helps determine how quickly the model learns through **gradient descent**. The rate at which descends a gradient is called the **learning rate**."
   ]
  },
  {
   "cell_type": "markdown",
   "metadata": {
    "id": "GhWPvXBlkK6f"
   },
   "source": [
    "So are smaller learning rates better? Not quite! It's important for an optimizer not to get stuck in local minima while neglecting the global minimum of the loss function. Sometimes that means trying a larger learning rate to jump out of a local minimum."
   ]
  },
  {
   "cell_type": "code",
   "execution_count": 19,
   "metadata": {
    "id": "VC4UMeIbkK6g"
   },
   "outputs": [],
   "source": [
    "# Let's use the Adam optimizer for learning\n",
    "model.compile(loss='categorical_crossentropy', \n",
    "              optimizer=\"Adam\",\n",
    "              metrics=['accuracy'])\n",
    "K.set_value(model.optimizer.learning_rate, 0.00001)"
   ]
  },
  {
   "cell_type": "markdown",
   "metadata": {
    "id": "jUpwMao0kK6g"
   },
   "source": [
    "## Train the model!\n",
    "This is the fun part! "
   ]
  },
  {
   "cell_type": "markdown",
   "metadata": {
    "id": "rYfqqV4_kK6g"
   },
   "source": [
    "The batch size determines over how much data per step is used to compute the loss function, gradients, and back propagation. Large batch sizes allow the network to complete it's training faster; however, there are other factors beyond training speed to consider.\n",
    "\n",
    "Too large of a batch size smoothes the local minima of the loss function, causing the optimizer to settle in one because it thinks it found the global minimum.\n",
    "\n",
    "Too small of a batch size creates a very noisy loss function, and the optimizer may never find the global minimum.\n",
    "\n",
    "So a good batch size may take some trial and error to find!"
   ]
  },
  {
   "cell_type": "code",
   "execution_count": 20,
   "metadata": {
    "id": "koNgJ55tkK6g"
   },
   "outputs": [
    {
     "name": "stdout",
     "output_type": "stream",
     "text": [
      "Epoch 1/170\n",
      "469/469 [==============================] - 2s 2ms/step - loss: 1.8450 - accuracy: 0.5037\n",
      "Epoch 2/170\n",
      "469/469 [==============================] - 1s 2ms/step - loss: 0.9504 - accuracy: 0.7890\n",
      "Epoch 3/170\n",
      "469/469 [==============================] - 1s 2ms/step - loss: 0.6011 - accuracy: 0.8453\n",
      "Epoch 4/170\n",
      "469/469 [==============================] - 1s 2ms/step - loss: 0.4804 - accuracy: 0.8674\n",
      "Epoch 5/170\n",
      "469/469 [==============================] - 1s 2ms/step - loss: 0.4177 - accuracy: 0.8828\n",
      "Epoch 6/170\n",
      "469/469 [==============================] - 1s 2ms/step - loss: 0.3775 - accuracy: 0.8917\n",
      "Epoch 7/170\n",
      "469/469 [==============================] - 1s 2ms/step - loss: 0.3508 - accuracy: 0.9001\n",
      "Epoch 8/170\n",
      "469/469 [==============================] - 1s 2ms/step - loss: 0.3275 - accuracy: 0.9052\n",
      "Epoch 9/170\n",
      "469/469 [==============================] - 1s 3ms/step - loss: 0.3107 - accuracy: 0.9103\n",
      "Epoch 10/170\n",
      "469/469 [==============================] - 1s 3ms/step - loss: 0.2961 - accuracy: 0.9136\n",
      "Epoch 11/170\n",
      "469/469 [==============================] - 1s 3ms/step - loss: 0.2832 - accuracy: 0.9184\n",
      "Epoch 12/170\n",
      "469/469 [==============================] - 1s 3ms/step - loss: 0.2694 - accuracy: 0.9218\n",
      "Epoch 13/170\n",
      "469/469 [==============================] - 1s 3ms/step - loss: 0.2615 - accuracy: 0.9252\n",
      "Epoch 14/170\n",
      "469/469 [==============================] - 1s 3ms/step - loss: 0.2509 - accuracy: 0.9270\n",
      "Epoch 15/170\n",
      "469/469 [==============================] - 1s 3ms/step - loss: 0.2407 - accuracy: 0.9308\n",
      "Epoch 16/170\n",
      "469/469 [==============================] - 1s 3ms/step - loss: 0.2321 - accuracy: 0.9324\n",
      "Epoch 17/170\n",
      "469/469 [==============================] - 1s 3ms/step - loss: 0.2248 - accuracy: 0.9356\n",
      "Epoch 18/170\n",
      "469/469 [==============================] - 1s 3ms/step - loss: 0.2183 - accuracy: 0.9367\n",
      "Epoch 19/170\n",
      "469/469 [==============================] - 1s 3ms/step - loss: 0.2113 - accuracy: 0.9397\n",
      "Epoch 20/170\n",
      "469/469 [==============================] - 1s 3ms/step - loss: 0.2047 - accuracy: 0.9412\n",
      "Epoch 21/170\n",
      "469/469 [==============================] - 1s 3ms/step - loss: 0.2004 - accuracy: 0.9426\n",
      "Epoch 22/170\n",
      "469/469 [==============================] - 1s 3ms/step - loss: 0.1928 - accuracy: 0.9442\n",
      "Epoch 23/170\n",
      "469/469 [==============================] - 1s 3ms/step - loss: 0.1869 - accuracy: 0.9455\n",
      "Epoch 24/170\n",
      "469/469 [==============================] - 1s 3ms/step - loss: 0.1823 - accuracy: 0.9472\n",
      "Epoch 25/170\n",
      "469/469 [==============================] - 1s 3ms/step - loss: 0.1779 - accuracy: 0.9494\n",
      "Epoch 26/170\n",
      "469/469 [==============================] - 1s 3ms/step - loss: 0.1746 - accuracy: 0.9492\n",
      "Epoch 27/170\n",
      "469/469 [==============================] - 1s 3ms/step - loss: 0.1698 - accuracy: 0.9503\n",
      "Epoch 28/170\n",
      "469/469 [==============================] - 1s 3ms/step - loss: 0.1652 - accuracy: 0.9521\n",
      "Epoch 29/170\n",
      "469/469 [==============================] - 1s 3ms/step - loss: 0.1620 - accuracy: 0.9537\n",
      "Epoch 30/170\n",
      "469/469 [==============================] - 1s 3ms/step - loss: 0.1565 - accuracy: 0.9547\n",
      "Epoch 31/170\n",
      "469/469 [==============================] - 1s 3ms/step - loss: 0.1536 - accuracy: 0.9552\n",
      "Epoch 32/170\n",
      "469/469 [==============================] - 1s 3ms/step - loss: 0.1504 - accuracy: 0.9569\n",
      "Epoch 33/170\n",
      "469/469 [==============================] - 1s 3ms/step - loss: 0.1485 - accuracy: 0.9570\n",
      "Epoch 34/170\n",
      "469/469 [==============================] - 1s 3ms/step - loss: 0.1441 - accuracy: 0.9577\n",
      "Epoch 35/170\n",
      "469/469 [==============================] - 1s 3ms/step - loss: 0.1412 - accuracy: 0.9587\n",
      "Epoch 36/170\n",
      "469/469 [==============================] - 1s 3ms/step - loss: 0.1395 - accuracy: 0.9597\n",
      "Epoch 37/170\n",
      "469/469 [==============================] - 1s 3ms/step - loss: 0.1353 - accuracy: 0.9598\n",
      "Epoch 38/170\n",
      "469/469 [==============================] - 1s 3ms/step - loss: 0.1335 - accuracy: 0.9607\n",
      "Epoch 39/170\n",
      "469/469 [==============================] - 1s 3ms/step - loss: 0.1314 - accuracy: 0.9623\n",
      "Epoch 40/170\n",
      "469/469 [==============================] - 1s 3ms/step - loss: 0.1289 - accuracy: 0.9618\n",
      "Epoch 41/170\n",
      "469/469 [==============================] - 1s 3ms/step - loss: 0.1253 - accuracy: 0.9637\n",
      "Epoch 42/170\n",
      "469/469 [==============================] - 1s 3ms/step - loss: 0.1235 - accuracy: 0.9646\n",
      "Epoch 43/170\n",
      "469/469 [==============================] - 1s 3ms/step - loss: 0.1213 - accuracy: 0.9646\n",
      "Epoch 44/170\n",
      "469/469 [==============================] - 1s 3ms/step - loss: 0.1174 - accuracy: 0.9654\n",
      "Epoch 45/170\n",
      "469/469 [==============================] - 1s 3ms/step - loss: 0.1166 - accuracy: 0.9662\n",
      "Epoch 46/170\n",
      "469/469 [==============================] - 1s 3ms/step - loss: 0.1152 - accuracy: 0.9663\n",
      "Epoch 47/170\n",
      "469/469 [==============================] - 1s 3ms/step - loss: 0.1130 - accuracy: 0.9668\n",
      "Epoch 48/170\n",
      "469/469 [==============================] - 1s 3ms/step - loss: 0.1101 - accuracy: 0.9674\n",
      "Epoch 49/170\n",
      "469/469 [==============================] - 1s 3ms/step - loss: 0.1097 - accuracy: 0.9677\n",
      "Epoch 50/170\n",
      "469/469 [==============================] - 1s 3ms/step - loss: 0.1064 - accuracy: 0.9694\n",
      "Epoch 51/170\n",
      "469/469 [==============================] - 1s 3ms/step - loss: 0.1051 - accuracy: 0.9690\n",
      "Epoch 52/170\n",
      "469/469 [==============================] - 1s 3ms/step - loss: 0.1032 - accuracy: 0.9698\n",
      "Epoch 53/170\n",
      "469/469 [==============================] - 1s 3ms/step - loss: 0.1010 - accuracy: 0.9708\n",
      "Epoch 54/170\n",
      "469/469 [==============================] - 1s 3ms/step - loss: 0.1005 - accuracy: 0.9708\n",
      "Epoch 55/170\n",
      "469/469 [==============================] - 1s 3ms/step - loss: 0.0978 - accuracy: 0.9717\n",
      "Epoch 56/170\n",
      "469/469 [==============================] - 1s 3ms/step - loss: 0.0960 - accuracy: 0.9722\n",
      "Epoch 57/170\n",
      "469/469 [==============================] - 1s 3ms/step - loss: 0.0950 - accuracy: 0.9722\n",
      "Epoch 58/170\n",
      "469/469 [==============================] - 1s 3ms/step - loss: 0.0931 - accuracy: 0.9726\n",
      "Epoch 59/170\n",
      "469/469 [==============================] - 1s 3ms/step - loss: 0.0927 - accuracy: 0.9727\n",
      "Epoch 60/170\n",
      "469/469 [==============================] - 1s 3ms/step - loss: 0.0904 - accuracy: 0.9736\n",
      "Epoch 61/170\n",
      "469/469 [==============================] - 1s 3ms/step - loss: 0.0903 - accuracy: 0.9737\n",
      "Epoch 62/170\n",
      "469/469 [==============================] - 1s 3ms/step - loss: 0.0888 - accuracy: 0.9739\n",
      "Epoch 63/170\n",
      "469/469 [==============================] - 1s 3ms/step - loss: 0.0869 - accuracy: 0.9747\n",
      "Epoch 64/170\n",
      "469/469 [==============================] - 1s 3ms/step - loss: 0.0856 - accuracy: 0.9746\n",
      "Epoch 65/170\n",
      "469/469 [==============================] - 1s 3ms/step - loss: 0.0848 - accuracy: 0.9750\n",
      "Epoch 66/170\n",
      "469/469 [==============================] - 1s 3ms/step - loss: 0.0836 - accuracy: 0.9753\n",
      "Epoch 67/170\n",
      "469/469 [==============================] - 1s 3ms/step - loss: 0.0818 - accuracy: 0.9756\n",
      "Epoch 68/170\n",
      "469/469 [==============================] - 1s 3ms/step - loss: 0.0812 - accuracy: 0.9764\n",
      "Epoch 69/170\n",
      "469/469 [==============================] - 1s 3ms/step - loss: 0.0803 - accuracy: 0.9767\n",
      "Epoch 70/170\n",
      "469/469 [==============================] - 1s 3ms/step - loss: 0.0778 - accuracy: 0.9774\n",
      "Epoch 71/170\n",
      "469/469 [==============================] - 1s 3ms/step - loss: 0.0781 - accuracy: 0.9768\n",
      "Epoch 72/170\n",
      "469/469 [==============================] - 1s 3ms/step - loss: 0.0761 - accuracy: 0.9776\n",
      "Epoch 73/170\n",
      "469/469 [==============================] - 1s 3ms/step - loss: 0.0753 - accuracy: 0.9771\n",
      "Epoch 74/170\n",
      "469/469 [==============================] - 1s 3ms/step - loss: 0.0739 - accuracy: 0.9780\n",
      "Epoch 75/170\n",
      "469/469 [==============================] - 1s 3ms/step - loss: 0.0730 - accuracy: 0.9784\n",
      "Epoch 76/170\n",
      "469/469 [==============================] - 1s 3ms/step - loss: 0.0723 - accuracy: 0.9780\n",
      "Epoch 77/170\n",
      "469/469 [==============================] - 1s 3ms/step - loss: 0.0707 - accuracy: 0.9788\n",
      "Epoch 78/170\n",
      "469/469 [==============================] - 1s 3ms/step - loss: 0.0708 - accuracy: 0.9789\n",
      "Epoch 79/170\n",
      "469/469 [==============================] - 1s 3ms/step - loss: 0.0695 - accuracy: 0.9793\n",
      "Epoch 80/170\n",
      "469/469 [==============================] - 1s 3ms/step - loss: 0.0684 - accuracy: 0.9797\n",
      "Epoch 81/170\n"
     ]
    },
    {
     "name": "stdout",
     "output_type": "stream",
     "text": [
      "469/469 [==============================] - 1s 3ms/step - loss: 0.0679 - accuracy: 0.9802\n",
      "Epoch 82/170\n",
      "469/469 [==============================] - 1s 3ms/step - loss: 0.0670 - accuracy: 0.9798\n",
      "Epoch 83/170\n",
      "469/469 [==============================] - 1s 3ms/step - loss: 0.0659 - accuracy: 0.9807\n",
      "Epoch 84/170\n",
      "469/469 [==============================] - 1s 3ms/step - loss: 0.0647 - accuracy: 0.9807\n",
      "Epoch 85/170\n",
      "469/469 [==============================] - 1s 3ms/step - loss: 0.0641 - accuracy: 0.9810\n",
      "Epoch 86/170\n",
      "469/469 [==============================] - 1s 3ms/step - loss: 0.0638 - accuracy: 0.9808\n",
      "Epoch 87/170\n",
      "469/469 [==============================] - 1s 3ms/step - loss: 0.0624 - accuracy: 0.9813\n",
      "Epoch 88/170\n",
      "469/469 [==============================] - 1s 3ms/step - loss: 0.0614 - accuracy: 0.9817\n",
      "Epoch 89/170\n",
      "469/469 [==============================] - 1s 3ms/step - loss: 0.0607 - accuracy: 0.9818\n",
      "Epoch 90/170\n",
      "469/469 [==============================] - 1s 3ms/step - loss: 0.0595 - accuracy: 0.9820\n",
      "Epoch 91/170\n",
      "469/469 [==============================] - 1s 3ms/step - loss: 0.0584 - accuracy: 0.9825\n",
      "Epoch 92/170\n",
      "469/469 [==============================] - 1s 3ms/step - loss: 0.0588 - accuracy: 0.9824\n",
      "Epoch 93/170\n",
      "469/469 [==============================] - 1s 3ms/step - loss: 0.0583 - accuracy: 0.9828\n",
      "Epoch 94/170\n",
      "469/469 [==============================] - 1s 3ms/step - loss: 0.0579 - accuracy: 0.9832\n",
      "Epoch 95/170\n",
      "469/469 [==============================] - 1s 3ms/step - loss: 0.0562 - accuracy: 0.9833\n",
      "Epoch 96/170\n",
      "469/469 [==============================] - 1s 3ms/step - loss: 0.0557 - accuracy: 0.9837\n",
      "Epoch 97/170\n",
      "469/469 [==============================] - 1s 3ms/step - loss: 0.0528 - accuracy: 0.9844\n",
      "Epoch 98/170\n",
      "469/469 [==============================] - 1s 3ms/step - loss: 0.0551 - accuracy: 0.9841\n",
      "Epoch 99/170\n",
      "469/469 [==============================] - 1s 3ms/step - loss: 0.0534 - accuracy: 0.9843\n",
      "Epoch 100/170\n",
      "469/469 [==============================] - 1s 3ms/step - loss: 0.0527 - accuracy: 0.9844\n",
      "Epoch 101/170\n",
      "469/469 [==============================] - 1s 3ms/step - loss: 0.0523 - accuracy: 0.9842\n",
      "Epoch 102/170\n",
      "469/469 [==============================] - 1s 3ms/step - loss: 0.0524 - accuracy: 0.9845\n",
      "Epoch 103/170\n",
      "469/469 [==============================] - 1s 3ms/step - loss: 0.0511 - accuracy: 0.9847\n",
      "Epoch 104/170\n",
      "469/469 [==============================] - 1s 3ms/step - loss: 0.0511 - accuracy: 0.9851\n",
      "Epoch 105/170\n",
      "469/469 [==============================] - 1s 3ms/step - loss: 0.0498 - accuracy: 0.9853\n",
      "Epoch 106/170\n",
      "469/469 [==============================] - 1s 3ms/step - loss: 0.0493 - accuracy: 0.9855\n",
      "Epoch 107/170\n",
      "469/469 [==============================] - 1s 3ms/step - loss: 0.0477 - accuracy: 0.9859\n",
      "Epoch 108/170\n",
      "469/469 [==============================] - 1s 3ms/step - loss: 0.0482 - accuracy: 0.9857\n",
      "Epoch 109/170\n",
      "469/469 [==============================] - 1s 3ms/step - loss: 0.0471 - accuracy: 0.9861\n",
      "Epoch 110/170\n",
      "469/469 [==============================] - 1s 3ms/step - loss: 0.0477 - accuracy: 0.9855\n",
      "Epoch 111/170\n",
      "469/469 [==============================] - 1s 3ms/step - loss: 0.0472 - accuracy: 0.9858\n",
      "Epoch 112/170\n",
      "469/469 [==============================] - 1s 3ms/step - loss: 0.0454 - accuracy: 0.9866\n",
      "Epoch 113/170\n",
      "469/469 [==============================] - 1s 3ms/step - loss: 0.0452 - accuracy: 0.9865\n",
      "Epoch 114/170\n",
      "469/469 [==============================] - 1s 3ms/step - loss: 0.0444 - accuracy: 0.9869\n",
      "Epoch 115/170\n",
      "469/469 [==============================] - 1s 3ms/step - loss: 0.0441 - accuracy: 0.9871\n",
      "Epoch 116/170\n",
      "469/469 [==============================] - 1s 3ms/step - loss: 0.0439 - accuracy: 0.9874\n",
      "Epoch 117/170\n",
      "469/469 [==============================] - 1s 3ms/step - loss: 0.0419 - accuracy: 0.9876\n",
      "Epoch 118/170\n",
      "469/469 [==============================] - 1s 3ms/step - loss: 0.0423 - accuracy: 0.9876\n",
      "Epoch 119/170\n",
      "469/469 [==============================] - 1s 3ms/step - loss: 0.0428 - accuracy: 0.9872\n",
      "Epoch 120/170\n",
      "469/469 [==============================] - 1s 3ms/step - loss: 0.0418 - accuracy: 0.9875\n",
      "Epoch 121/170\n",
      "469/469 [==============================] - 1s 3ms/step - loss: 0.0411 - accuracy: 0.9876\n",
      "Epoch 122/170\n",
      "469/469 [==============================] - 1s 3ms/step - loss: 0.0406 - accuracy: 0.9879\n",
      "Epoch 123/170\n",
      "469/469 [==============================] - 1s 3ms/step - loss: 0.0412 - accuracy: 0.9874\n",
      "Epoch 124/170\n",
      "469/469 [==============================] - 1s 3ms/step - loss: 0.0398 - accuracy: 0.9883\n",
      "Epoch 125/170\n",
      "469/469 [==============================] - 1s 3ms/step - loss: 0.0401 - accuracy: 0.9881\n",
      "Epoch 126/170\n",
      "469/469 [==============================] - 1s 3ms/step - loss: 0.0382 - accuracy: 0.9887\n",
      "Epoch 127/170\n",
      "469/469 [==============================] - 1s 3ms/step - loss: 0.0390 - accuracy: 0.9882\n",
      "Epoch 128/170\n",
      "469/469 [==============================] - 1s 3ms/step - loss: 0.0384 - accuracy: 0.9879\n",
      "Epoch 129/170\n",
      "469/469 [==============================] - 1s 3ms/step - loss: 0.0384 - accuracy: 0.9887\n",
      "Epoch 130/170\n",
      "469/469 [==============================] - 1s 3ms/step - loss: 0.0370 - accuracy: 0.9893\n",
      "Epoch 131/170\n",
      "469/469 [==============================] - 1s 3ms/step - loss: 0.0363 - accuracy: 0.9891\n",
      "Epoch 132/170\n",
      "469/469 [==============================] - 1s 3ms/step - loss: 0.0353 - accuracy: 0.9898\n",
      "Epoch 133/170\n",
      "469/469 [==============================] - 1s 3ms/step - loss: 0.0362 - accuracy: 0.9891\n",
      "Epoch 134/170\n",
      "469/469 [==============================] - 1s 3ms/step - loss: 0.0364 - accuracy: 0.9891\n",
      "Epoch 135/170\n",
      "469/469 [==============================] - 1s 3ms/step - loss: 0.0353 - accuracy: 0.9896\n",
      "Epoch 136/170\n",
      "469/469 [==============================] - 1s 3ms/step - loss: 0.0348 - accuracy: 0.9897\n",
      "Epoch 137/170\n",
      "469/469 [==============================] - 1s 3ms/step - loss: 0.0336 - accuracy: 0.9904\n",
      "Epoch 138/170\n",
      "469/469 [==============================] - 1s 3ms/step - loss: 0.0342 - accuracy: 0.9902\n",
      "Epoch 139/170\n",
      "469/469 [==============================] - 1s 3ms/step - loss: 0.0335 - accuracy: 0.9901\n",
      "Epoch 140/170\n",
      "469/469 [==============================] - 1s 3ms/step - loss: 0.0332 - accuracy: 0.9902\n",
      "Epoch 141/170\n",
      "469/469 [==============================] - 1s 3ms/step - loss: 0.0338 - accuracy: 0.9904\n",
      "Epoch 142/170\n",
      "469/469 [==============================] - 1s 3ms/step - loss: 0.0331 - accuracy: 0.9901\n",
      "Epoch 143/170\n",
      "469/469 [==============================] - 1s 3ms/step - loss: 0.0321 - accuracy: 0.9911\n",
      "Epoch 144/170\n",
      "469/469 [==============================] - 1s 3ms/step - loss: 0.0323 - accuracy: 0.9904\n",
      "Epoch 145/170\n",
      "469/469 [==============================] - 1s 3ms/step - loss: 0.0313 - accuracy: 0.9909\n",
      "Epoch 146/170\n",
      "469/469 [==============================] - 1s 3ms/step - loss: 0.0313 - accuracy: 0.9908\n",
      "Epoch 147/170\n",
      "469/469 [==============================] - 1s 3ms/step - loss: 0.0298 - accuracy: 0.9913\n",
      "Epoch 148/170\n",
      "469/469 [==============================] - 1s 3ms/step - loss: 0.0302 - accuracy: 0.9908\n",
      "Epoch 149/170\n",
      "469/469 [==============================] - 1s 3ms/step - loss: 0.0307 - accuracy: 0.9912\n",
      "Epoch 150/170\n",
      "469/469 [==============================] - 1s 3ms/step - loss: 0.0292 - accuracy: 0.9921\n",
      "Epoch 151/170\n",
      "469/469 [==============================] - 1s 3ms/step - loss: 0.0293 - accuracy: 0.9913\n",
      "Epoch 152/170\n",
      "469/469 [==============================] - 1s 3ms/step - loss: 0.0290 - accuracy: 0.9916\n",
      "Epoch 153/170\n",
      "469/469 [==============================] - 1s 3ms/step - loss: 0.0293 - accuracy: 0.9912\n",
      "Epoch 154/170\n",
      "469/469 [==============================] - 1s 3ms/step - loss: 0.0289 - accuracy: 0.9916\n",
      "Epoch 155/170\n",
      "469/469 [==============================] - 1s 3ms/step - loss: 0.0286 - accuracy: 0.9914\n",
      "Epoch 156/170\n",
      "469/469 [==============================] - 1s 3ms/step - loss: 0.0279 - accuracy: 0.9919\n",
      "Epoch 157/170\n",
      "469/469 [==============================] - 1s 3ms/step - loss: 0.0276 - accuracy: 0.9923\n",
      "Epoch 158/170\n",
      "469/469 [==============================] - 1s 3ms/step - loss: 0.0273 - accuracy: 0.9920\n",
      "Epoch 159/170\n",
      "469/469 [==============================] - 1s 3ms/step - loss: 0.0270 - accuracy: 0.9921\n",
      "Epoch 160/170\n"
     ]
    },
    {
     "name": "stdout",
     "output_type": "stream",
     "text": [
      "469/469 [==============================] - 1s 3ms/step - loss: 0.0263 - accuracy: 0.9926\n",
      "Epoch 161/170\n",
      "469/469 [==============================] - 1s 3ms/step - loss: 0.0262 - accuracy: 0.9927\n",
      "Epoch 162/170\n",
      "469/469 [==============================] - 1s 3ms/step - loss: 0.0263 - accuracy: 0.9923\n",
      "Epoch 163/170\n",
      "469/469 [==============================] - 1s 3ms/step - loss: 0.0261 - accuracy: 0.9928\n",
      "Epoch 164/170\n",
      "469/469 [==============================] - 1s 3ms/step - loss: 0.0260 - accuracy: 0.9927\n",
      "Epoch 165/170\n",
      "469/469 [==============================] - 1s 3ms/step - loss: 0.0251 - accuracy: 0.9926\n",
      "Epoch 166/170\n",
      "469/469 [==============================] - 1s 3ms/step - loss: 0.0249 - accuracy: 0.9929\n",
      "Epoch 167/170\n",
      "469/469 [==============================] - 1s 3ms/step - loss: 0.0244 - accuracy: 0.9933\n",
      "Epoch 168/170\n",
      "469/469 [==============================] - 1s 3ms/step - loss: 0.0244 - accuracy: 0.9926\n",
      "Epoch 169/170\n",
      "469/469 [==============================] - 1s 3ms/step - loss: 0.0237 - accuracy: 0.9934\n",
      "Epoch 170/170\n",
      "469/469 [==============================] - 1s 3ms/step - loss: 0.0248 - accuracy: 0.9923\n"
     ]
    },
    {
     "data": {
      "text/plain": [
       "<tensorflow.python.keras.callbacks.History at 0x2004822fd30>"
      ]
     },
     "execution_count": 20,
     "metadata": {},
     "output_type": "execute_result"
    }
   ],
   "source": [
    "model.fit(X_train, Y_train,\n",
    "          batch_size=128, epochs=170,\n",
    "          verbose=1)"
   ]
  },
  {
   "cell_type": "markdown",
   "metadata": {
    "id": "5ckkl2fLkK6g"
   },
   "source": [
    "The two numbers, in order, represent the value of the loss function of the network on the training set, and the overall accuracy of the network on the training data. But how does it do on data it did not train on?"
   ]
  },
  {
   "cell_type": "markdown",
   "metadata": {
    "id": "UNZxyqqOkK6g"
   },
   "source": [
    "## Evaluate Model's Accuracy on Test Data"
   ]
  },
  {
   "cell_type": "code",
   "execution_count": 21,
   "metadata": {
    "id": "k3MzxscIkK6g"
   },
   "outputs": [
    {
     "name": "stdout",
     "output_type": "stream",
     "text": [
      "313/313 [==============================] - 1s 2ms/step - loss: 0.0579 - accuracy: 0.9820\n",
      "Test score: 0.05793144553899765\n",
      "Test accuracy: 0.9819999933242798\n"
     ]
    }
   ],
   "source": [
    "score = model.evaluate(X_test, Y_test)\n",
    "print('Test score:', score[0])\n",
    "print('Test accuracy:', score[1])"
   ]
  },
  {
   "cell_type": "markdown",
   "metadata": {
    "id": "m3wbzkmxkK6g"
   },
   "source": [
    "### Inspecting the output\n",
    "\n",
    "It's always a good idea to inspect the output and make sure everything looks sane. Here we'll look at some examples it gets right, and some examples it gets wrong."
   ]
  },
  {
   "cell_type": "code",
   "execution_count": 22,
   "metadata": {
    "id": "7zCu-L8dkK6g"
   },
   "outputs": [
    {
     "name": "stderr",
     "output_type": "stream",
     "text": [
      "D:\\Miniconda3\\lib\\site-packages\\tensorflow\\python\\keras\\engine\\sequential.py:454: UserWarning: `model.predict_classes()` is deprecated and will be removed after 2021-01-01. Please use instead:* `np.argmax(model.predict(x), axis=-1)`,   if your model does multi-class classification   (e.g. if it uses a `softmax` last-layer activation).* `(model.predict(x) > 0.5).astype(\"int32\")`,   if your model does binary classification   (e.g. if it uses a `sigmoid` last-layer activation).\n",
      "  warnings.warn('`model.predict_classes()` is deprecated and '\n"
     ]
    }
   ],
   "source": [
    "# The predict_classes function outputs the highest probability class\n",
    "# according to the trained classifier for each input example.\n",
    "predicted_classes = model.predict_classes(X_test)\n",
    "\n",
    "# Check which items we got right / wrong\n",
    "correct_indices = np.nonzero(predicted_classes == y_test)[0]\n",
    "\n",
    "incorrect_indices = np.nonzero(predicted_classes != y_test)[0]"
   ]
  },
  {
   "cell_type": "code",
   "execution_count": 23,
   "metadata": {
    "id": "tR1q3KzDkK6h"
   },
   "outputs": [
    {
     "data": {
      "image/png": "[encoded data removed]",
      "text/plain": [
       "<Figure size 648x648 with 9 Axes>"
      ]
     },
     "metadata": {
      "needs_background": "light"
     },
     "output_type": "display_data"
    },
    {
     "data": {
      "image/png": "[encoded data removed]",
      "text/plain": [
       "<Figure size 648x648 with 9 Axes>"
      ]
     },
     "metadata": {
      "needs_background": "light"
     },
     "output_type": "display_data"
    }
   ],
   "source": [
    "plt.figure()\n",
    "for i, correct in enumerate(correct_indices[:9]):\n",
    "    plt.subplot(3,3,i+1)\n",
    "    plt.imshow(X_test[correct].reshape(28,28), cmap='gray', interpolation='none')\n",
    "    plt.title(\"Predicted {}, Class {}\".format(predicted_classes[correct], y_test[correct]))\n",
    "    \n",
    "plt.tight_layout()\n",
    "    \n",
    "plt.figure()\n",
    "for i, incorrect in enumerate(incorrect_indices[:9]):\n",
    "    plt.subplot(3,3,i+1)\n",
    "    plt.imshow(X_test[incorrect].reshape(28,28), cmap='gray', interpolation='none')\n",
    "    plt.title(\"Predicted {}, Class {}\".format(predicted_classes[incorrect], y_test[incorrect]))\n",
    "    \n",
    "plt.tight_layout()"
   ]
  },
  {
   "cell_type": "markdown",
   "metadata": {
    "id": "LFu8rty4kK6h"
   },
   "source": [
    "# Trying experimenting with the batch size!\n",
    "\n",
    "#### How does increasing the batch size to 10,000 affect the training time and test accuracy?\n",
    "\n",
    "#### How about a batch size of 32?"
   ]
  },
  {
   "cell_type": "markdown",
   "metadata": {
    "id": "odLLx-ckkK6h"
   },
   "source": [
    "# Introducing Convolution! What is it?"
   ]
  },
  {
   "cell_type": "markdown",
   "metadata": {
    "id": "3yL0_Zr1kK6h"
   },
   "source": [
    "Before, we built a network that accepts the normalized pixel values of each value and operates soley on those values. What if we could instead feed different features (e.g. **curvature, edges**) of each image into a network, and have the network learn which features are important for classifying an image?\n",
    "\n",
    "This possible through convolution! Convolution applies **kernels** (filters) that traverse through each image and generate **feature maps**."
   ]
  },
  {
   "cell_type": "markdown",
   "metadata": {
    "id": "pOq9D1ROkK6h"
   },
   "source": [
    "In the above example, the image is a 5 x 5 matrix and the kernel going over it is a 3 x 3 matrix. A dot product operation takes place between the image and the kernel and the convolved feature is generated. Each kernel in a CNN learns a different characteristic of an image.\n",
    "\n",
    "Kernels are often used in photoediting software to apply blurring, edge detection, sharpening, etc."
   ]
  },
  {
   "cell_type": "markdown",
   "metadata": {
    "id": "xc-bodjmkK6h"
   },
   "source": [
    "Kernels in deep learning networks are used in similar ways, i.e. highlighting some feature. Combined with a system called **max pooling**, the non-highlighted elements are discarded from each feature map, leaving only the features of interest, reducing the number of learned parameters, and decreasing the computational cost (e.g. system memory)."
   ]
  },
  {
   "cell_type": "markdown",
   "metadata": {
    "id": "auWD0dO3kK6h"
   },
   "source": [
    "We can also take convolutions of convolutions -- we can stack as many convolutions as we want, as long as there are enough pixels to fit a kernel.\n",
    "\n",
    "*Warning: What you may find down there in those deep convolutions may not appear recognizable to you.*"
   ]
  },
  {
   "cell_type": "markdown",
   "metadata": {
    "id": "KAWu7NBbkK6i"
   },
   "source": [
    "## Building a \"Deep\" Convolutional Neural Network"
   ]
  },
  {
   "cell_type": "code",
   "execution_count": 24,
   "metadata": {
    "id": "ZxSGUW9QkK6i"
   },
   "outputs": [],
   "source": [
    "# Reload the MNIST data\n",
    "(X_train, y_train), (X_test, y_test) = mnist.load_data()"
   ]
  },
  {
   "cell_type": "code",
   "execution_count": 25,
   "metadata": {
    "id": "KJU7sosMkK6i"
   },
   "outputs": [
    {
     "name": "stdout",
     "output_type": "stream",
     "text": [
      "Training matrix shape (60000, 28, 28, 1)\n",
      "Testing matrix shape (10000, 28, 28, 1)\n"
     ]
    }
   ],
   "source": [
    "# Again, do some formatting\n",
    "# Except we do not flatten each image into a 784-length vector because we want to perform convolutions first\n",
    "\n",
    "X_train = X_train.reshape(60000, 28, 28, 1) #add an additional dimension to represent the single-channel\n",
    "X_test = X_test.reshape(10000, 28, 28, 1)\n",
    "\n",
    "X_train = X_train.astype('float32')         # change integers to 32-bit floating point numbers\n",
    "X_test = X_test.astype('float32')\n",
    "\n",
    "X_train /= 255                              # normalize each value for each pixel for the entire vector for each input\n",
    "X_test /= 255\n",
    "\n",
    "print(\"Training matrix shape\", X_train.shape)\n",
    "print(\"Testing matrix shape\", X_test.shape)"
   ]
  },
  {
   "cell_type": "code",
   "execution_count": 26,
   "metadata": {
    "id": "hIc4kLcmkK6i"
   },
   "outputs": [],
   "source": [
    "# one-hot format classes\n",
    "\n",
    "nb_classes = 10 # number of unique digits\n",
    "\n",
    "Y_train = np_utils.to_categorical(y_train, nb_classes)\n",
    "Y_test = np_utils.to_categorical(y_test, nb_classes)"
   ]
  },
  {
   "cell_type": "code",
   "execution_count": 27,
   "metadata": {
    "id": "lR80GpfRkK6i"
   },
   "outputs": [],
   "source": [
    "model = Sequential()                                 # Linear stacking of layers\n",
    "\n",
    "# Convolution Layer 1\n",
    "model.add(Conv2D(32, (3, 3), input_shape=(28,28,1))) # 32 different 3x3 kernels -- so 32 feature maps\n",
    "model.add(BatchNormalization(axis=-1))               # normalize each feature map before activation\n",
    "convLayer01 = Activation('relu')                     # activation\n",
    "model.add(convLayer01)\n",
    "\n",
    "# Convolution Layer 2\n",
    "model.add(Conv2D(32, (3, 3)))                        # 32 different 3x3 kernels -- so 32 feature maps\n",
    "model.add(BatchNormalization(axis=-1))               # normalize each feature map before activation\n",
    "model.add(Activation('relu'))                        # activation\n",
    "convLayer02 = MaxPooling2D(pool_size=(2,2))          # Pool the max values over a 2x2 kernel\n",
    "model.add(convLayer02)\n",
    "\n",
    "# Convolution Layer 3\n",
    "model.add(Conv2D(64,(3, 3)))                         # 64 different 3x3 kernels -- so 64 feature maps\n",
    "model.add(BatchNormalization(axis=-1))               # normalize each feature map before activation\n",
    "convLayer03 = Activation('relu')                     # activation\n",
    "model.add(convLayer03)\n",
    "\n",
    "# Convolution Layer 4\n",
    "model.add(Conv2D(64, (3, 3)))                        # 64 different 3x3 kernels -- so 64 feature maps\n",
    "model.add(BatchNormalization(axis=-1))               # normalize each feature map before activation\n",
    "model.add(Activation('relu'))                        # activation\n",
    "convLayer04 = MaxPooling2D(pool_size=(2,2))          # Pool the max values over a 2x2 kernel\n",
    "model.add(convLayer04)\n",
    "model.add(Flatten())                                 # Flatten final 4x4x64 output matrix into a 1024-length vector\n",
    "\n",
    "# Fully Connected Layer 5\n",
    "model.add(Dense(512))                                # 512 FCN nodes\n",
    "model.add(BatchNormalization())                      # normalization\n",
    "model.add(Activation('relu'))                        # activation\n",
    "\n",
    "# Fully Connected Layer 6                       \n",
    "model.add(Dropout(0.2))                              # 20% dropout of randomly selected nodes\n",
    "model.add(Dense(10))                                 # final 10 FCN nodes\n",
    "model.add(Activation('softmax'))                     # softmax activation"
   ]
  },
  {
   "cell_type": "code",
   "execution_count": 28,
   "metadata": {
    "id": "fu-YdEArkK6i"
   },
   "outputs": [
    {
     "name": "stdout",
     "output_type": "stream",
     "text": [
      "Model: \"sequential_1\"\n",
      "_________________________________________________________________\n",
      "Layer (type)                 Output Shape              Param #   \n",
      "=================================================================\n",
      "conv2d (Conv2D)              (None, 26, 26, 32)        320       \n",
      "_________________________________________________________________\n",
      "module_wrapper (ModuleWrappe (None, 26, 26, 32)        128       \n",
      "_________________________________________________________________\n",
      "activation_3 (Activation)    (None, 26, 26, 32)        0         \n",
      "_________________________________________________________________\n",
      "conv2d_1 (Conv2D)            (None, 24, 24, 32)        9248      \n",
      "_________________________________________________________________\n",
      "module_wrapper_1 (ModuleWrap (None, 24, 24, 32)        128       \n",
      "_________________________________________________________________\n",
      "activation_4 (Activation)    (None, 24, 24, 32)        0         \n",
      "_________________________________________________________________\n",
      "max_pooling2d (MaxPooling2D) (None, 12, 12, 32)        0         \n",
      "_________________________________________________________________\n",
      "conv2d_2 (Conv2D)            (None, 10, 10, 64)        18496     \n",
      "_________________________________________________________________\n",
      "module_wrapper_2 (ModuleWrap (None, 10, 10, 64)        256       \n",
      "_________________________________________________________________\n",
      "activation_5 (Activation)    (None, 10, 10, 64)        0         \n",
      "_________________________________________________________________\n",
      "conv2d_3 (Conv2D)            (None, 8, 8, 64)          36928     \n",
      "_________________________________________________________________\n",
      "module_wrapper_3 (ModuleWrap (None, 8, 8, 64)          256       \n",
      "_________________________________________________________________\n",
      "activation_6 (Activation)    (None, 8, 8, 64)          0         \n",
      "_________________________________________________________________\n",
      "max_pooling2d_1 (MaxPooling2 (None, 4, 4, 64)          0         \n",
      "_________________________________________________________________\n",
      "flatten (Flatten)            (None, 1024)              0         \n",
      "_________________________________________________________________\n",
      "dense_3 (Dense)              (None, 512)               524800    \n",
      "_________________________________________________________________\n",
      "module_wrapper_4 (ModuleWrap (None, 512)               2048      \n",
      "_________________________________________________________________\n",
      "activation_7 (Activation)    (None, 512)               0         \n",
      "_________________________________________________________________\n",
      "dropout_2 (Dropout)          (None, 512)               0         \n",
      "_________________________________________________________________\n",
      "dense_4 (Dense)              (None, 10)                5130      \n",
      "_________________________________________________________________\n",
      "activation_8 (Activation)    (None, 10)                0         \n",
      "=================================================================\n",
      "Total params: 597,738\n",
      "Trainable params: 596,330\n",
      "Non-trainable params: 1,408\n",
      "_________________________________________________________________\n"
     ]
    }
   ],
   "source": [
    "model.summary()"
   ]
  },
  {
   "cell_type": "code",
   "execution_count": 29,
   "metadata": {
    "id": "sTdSPis2kK6j"
   },
   "outputs": [],
   "source": [
    "# we'll use the same optimizer\n",
    "\n",
    "model.compile(loss='categorical_crossentropy', optimizer='adam', metrics=['accuracy'])"
   ]
  },
  {
   "cell_type": "code",
   "execution_count": 30,
   "metadata": {
    "id": "egAYyaIrkK6j"
   },
   "outputs": [],
   "source": [
    "# data augmentation prevents overfitting by slightly changing the data randomly\n",
    "# Keras has a great built-in feature to do automatic augmentation\n",
    "\n",
    "gen = ImageDataGenerator(rotation_range=8, width_shift_range=0.08, shear_range=0.3,\n",
    "                         height_shift_range=0.08, zoom_range=0.08)\n",
    "\n",
    "test_gen = ImageDataGenerator()"
   ]
  },
  {
   "cell_type": "code",
   "execution_count": 31,
   "metadata": {
    "id": "KjH3aSk9kK6j"
   },
   "outputs": [],
   "source": [
    "# We can then feed our augmented data in batches\n",
    "# Besides loss function considerations as before, this method actually results in significant memory savings\n",
    "# because we are actually LOADING the data into the network in batches before processing each batch\n",
    "\n",
    "# Before the data was all loaded into memory, but then processed in batches.\n",
    "\n",
    "train_generator = gen.flow(X_train, Y_train, batch_size=128)\n",
    "test_generator = test_gen.flow(X_test, Y_test, batch_size=128)"
   ]
  },
  {
   "cell_type": "code",
   "execution_count": null,
   "metadata": {
    "id": "PIFo23SakK6j"
   },
   "outputs": [
    {
     "name": "stdout",
     "output_type": "stream",
     "text": [
      "Epoch 1/5\n"
     ]
    },
    {
     "name": "stderr",
     "output_type": "stream",
     "text": [
      "D:\\Miniconda3\\lib\\site-packages\\tensorflow\\python\\keras\\engine\\training.py:1963: UserWarning: `Model.fit_generator` is deprecated and will be removed in a future version. Please use `Model.fit`, which supports generators.\n",
      "  warnings.warn('`Model.fit_generator` is deprecated and '\n"
     ]
    }
   ],
   "source": [
    "# We can now train our model which is fed data by our batch loader\n",
    "# Steps per epoch should always be total size of the set divided by the batch size\n",
    "\n",
    "# SIGNIFICANT MEMORY SAVINGS (important for larger, deeper networks)\n",
    "\n",
    "model.fit_generator(train_generator, steps_per_epoch=60000//128, epochs=5, verbose=1, \n",
    "                    validation_data=test_generator, validation_steps=10000//128)"
   ]
  },
  {
   "cell_type": "code",
   "execution_count": null,
   "metadata": {
    "id": "44pO7ULTkK6j"
   },
   "outputs": [],
   "source": [
    "score = model.evaluate(X_test, Y_test)\n",
    "print('Test score:', score[0])\n",
    "print('Test accuracy:', score[1])"
   ]
  },
  {
   "cell_type": "markdown",
   "metadata": {
    "id": "_o9Nmpi5kK6j"
   },
   "source": [
    "## Great results! \n",
    "\n",
    "But wouldn't it be nice if we could visualize those convolutions so that we can see what the model is seeing?"
   ]
  },
  {
   "cell_type": "code",
   "execution_count": null,
   "metadata": {
    "id": "cp77F8WNkK6j"
   },
   "outputs": [],
   "source": [
    "from keras import backend as K\n",
    "\n",
    "# choose any image to want by specifying the index\n",
    "img = X_test[3]\n",
    "img = np.expand_dims(img, axis=0) # Keras requires the image to be in 4D, so we add an extra dimension to it.\n",
    "\n",
    "# Not important to understand how this function work -- It just plots a convolution layer\n",
    "\n",
    "def visualize(layer):\n",
    "    inputs = [K.learning_phase()] + model.inputs\n",
    "    \n",
    "    _convout1_f = K.function(inputs, [layer.output])\n",
    "    \n",
    "    def convout1_f(X):\n",
    "        # The [0] is to disable the training phase flag\n",
    "        return _convout1_f([0] + [X])\n",
    "\n",
    "    convolutions = convout1_f(img)\n",
    "    convolutions = np.squeeze(convolutions)\n",
    "\n",
    "    print ('Shape of conv:', convolutions.shape)\n",
    "    \n",
    "    m = convolutions.shape[2]\n",
    "    n = int(np.ceil(np.sqrt(m)))\n",
    "    \n",
    "    # Visualization of each filter of the layer\n",
    "    fig = plt.figure(figsize=(15,12))\n",
    "    for i in range(m):\n",
    "        ax = fig.add_subplot(n,n,i+1)\n",
    "        ax.imshow(convolutions[:,:,i], cmap='gray')\n"
   ]
  },
  {
   "cell_type": "code",
   "execution_count": null,
   "metadata": {
    "id": "tIAcwcRWkK6j"
   },
   "outputs": [],
   "source": [
    "plt.figure()\n",
    "plt.imshow(X_test[3].reshape(28,28), cmap='gray', interpolation='none')"
   ]
  },
  {
   "cell_type": "code",
   "execution_count": null,
   "metadata": {
    "id": "UXTmsYkUkK6j"
   },
   "outputs": [],
   "source": [
    "visualize(convLayer01) # visualize first set of feature maps"
   ]
  },
  {
   "cell_type": "code",
   "execution_count": null,
   "metadata": {
    "id": "WNmElVzrkK6j"
   },
   "outputs": [],
   "source": [
    "visualize(convLayer02) # visualize second set of feature maps"
   ]
  },
  {
   "cell_type": "code",
   "execution_count": null,
   "metadata": {
    "id": "VIX1reiMkK6j"
   },
   "outputs": [],
   "source": [
    "visualize(convLayer03)# visualize third set of feature maps"
   ]
  },
  {
   "cell_type": "code",
   "execution_count": null,
   "metadata": {
    "id": "WEG68OmEkK6k"
   },
   "outputs": [],
   "source": [
    "visualize(convLayer04)# visualize fourth set of feature maps"
   ]
  },
  {
   "cell_type": "markdown",
   "metadata": {
    "id": "VPpVsrjQkK6k"
   },
   "source": [
    "#### For a 3D visualization of a very similar network, visit http://scs.ryerson.ca/~aharley/vis/conv/"
   ]
  }
 ],
 "metadata": {
  "colab": {
   "name": "MNIST in Keras.ipynb",
   "provenance": []
  },
  "kernelspec": {
   "display_name": "Python 3 (ipykernel)",
   "language": "python",
   "name": "python3"
  },
  "language_info": {
   "codemirror_mode": {
    "name": "ipython",
    "version": 3
   },
   "file_extension": ".py",
   "mimetype": "text/x-python",
   "name": "python",
   "nbconvert_exporter": "python",
   "pygments_lexer": "ipython3",
   "version": "3.9.7"
  }
 },
 "nbformat": 4,
 "nbformat_minor": 1
}
