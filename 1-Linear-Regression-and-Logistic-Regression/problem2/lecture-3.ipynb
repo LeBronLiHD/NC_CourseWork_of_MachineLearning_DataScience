{
 "cells": [
  {
   "cell_type": "markdown",
   "id": "0ce65a52",
   "metadata": {},
   "source": [
    "### Parameters of Convolutional Calculation\n",
    "\n",
    "- Pedding Size P: Padding is to increase the number of pixels on each side, the purpose is to keep the feature map not too small\n",
    "- Kernel Size K: the size of the convolution core\n",
    "- Stride S: the size of interval between different steps\n",
    "- Input Size W\n",
    "- Final Output O: Hadamard product\n",
    "\n",
    "$$O=\\frac{W-K+2 P}{S}+1$$\n",
    "\n",
    "![cnn.png](./cnn.png)\n"
   ]
  },
  {
   "cell_type": "markdown",
   "id": "6561261a",
   "metadata": {},
   "source": [
    "\n",
    "$$\n",
    "\\boldsymbol{w}^{\\star}=\\arg \\min _{\\boldsymbol{w}} \\mathbb{E}_{\\boldsymbol{x}}\\left[\\left\\|\\boldsymbol{w} \\boldsymbol{w}^{\\top} \\boldsymbol{x}-\\boldsymbol{x}\\right\\|^{2}\\right] = \\arg \\min _{\\boldsymbol{w}} \\mathbb{E}_{\\boldsymbol{x}}\\left[  || (\\boldsymbol{w} \\boldsymbol{w}^{\\top} - I)\\boldsymbol{x}  ||^2  \\right] =  \\arg \\min _{\\boldsymbol{w}} \\mathbb{E}_{\\boldsymbol{x}}\\left[  || W_I\\boldsymbol{x}  ||^2  \\right] \n",
    "$$\n",
    "\n",
    "$$\n",
    "W_I = \\boldsymbol{w} \\boldsymbol{w}^{\\top} - I\n",
    "$$\n",
    "\n",
    "- When $w$ is a positive definite matrix, the loss is zero\n",
    "    - Positive definite matrix: The inverse of a matrix is equal to the transpose of a matrix\n"
   ]
  },
  {
   "cell_type": "markdown",
   "id": "041caa38",
   "metadata": {
    "slideshow": {
     "slide_type": "slide"
    }
   },
   "source": [
    "### 10.1109/CVPR.2016.265\n",
    "\n",
    "### Image Style Transfer Using Convolutional Neural Networks\n",
    "\n",
    "![Screen-Shot-2017-03-15-at-5.08.53-PM-768x863.png](./Screen-Shot-2017-03-15-at-5.08.53-PM-768x863.png)\n"
   ]
  },
  {
   "cell_type": "markdown",
   "id": "4da22666",
   "metadata": {
    "slideshow": {
     "slide_type": "slide"
    }
   },
   "source": [
    "- model structure\n",
    "\n",
    "![Screenshot 2022-05-01 224356.png](./Sc.png)"
   ]
  }
 ],
 "metadata": {
  "celltoolbar": "Slideshow",
  "kernelspec": {
   "display_name": "Python 3 (ipykernel)",
   "language": "python",
   "name": "python3"
  },
  "language_info": {
   "codemirror_mode": {
    "name": "ipython",
    "version": 3
   },
   "file_extension": ".py",
   "mimetype": "text/x-python",
   "name": "python",
   "nbconvert_exporter": "python",
   "pygments_lexer": "ipython3",
   "version": "3.9.7"
  }
 },
 "nbformat": 4,
 "nbformat_minor": 5
}
